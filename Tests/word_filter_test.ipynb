{
 "cells": [
  {
   "cell_type": "code",
   "execution_count": 2,
   "metadata": {},
   "outputs": [],
   "source": [
    "conjunctions = [\n",
    "    \"and\", \"but\", \"for\", \"nor\", \"or\", \"so\", \"yet\", \"after\", \"although\", \"as\",\n",
    "    \"because\", \"before\", \"even if\", \"even though\", \"if\", \"in order that\",\n",
    "    \"lest\", \"once\", \"provided that\", \"since\", \"so that\", \"though\", \"till\",\n",
    "    \"unless\", \"until\", \"when\", \"whenever\", \"where\", \"wherever\", \"while\"\n",
    "]"
   ]
  },
  {
   "cell_type": "code",
   "execution_count": 3,
   "metadata": {},
   "outputs": [],
   "source": [
    "articles = [\"a\", \"an\", \"the\"]"
   ]
  },
  {
   "cell_type": "code",
   "execution_count": 4,
   "metadata": {},
   "outputs": [],
   "source": [
    "prepositions = [\n",
    "    \"aboard\", \"about\", \"above\", \"across\", \"after\", \"against\", \"along\", \"amid\", \"among\",\n",
    "    \"around\", \"as\", \"at\", \"before\", \"behind\", \"below\", \"beneath\", \"beside\", \"between\",\n",
    "    \"beyond\", \"by\", \"down\", \"during\", \"for\", \"from\", \"in\", \"inside\", \"into\", \"like\",\n",
    "    \"near\", \"of\", \"off\", \"on\", \"onto\", \"out\", \"outside\", \"over\", \"past\", \"since\",\n",
    "    \"through\", \"to\", \"toward\", \"under\", \"underneath\", \"until\", \"up\", \"upon\", \"with\",\n",
    "    \"within\", \"without\"\n",
    "]"
   ]
  },
  {
   "cell_type": "code",
   "execution_count": 5,
   "metadata": {},
   "outputs": [],
   "source": [
    "pronouns = [\n",
    "    \"I\", \"me\", \"we\", \"us\", \"you\", \"he\", \"him\", \"she\", \"her\", \"it\", \"they\", \"them\",\n",
    "    \"myself\", \"yourself\", \"himself\", \"herself\", \"itself\", \"ourselves\", \"yourselves\", \"themselves\",\n",
    "    \"this\", \"that\", \"these\", \"those\", \"who\", \"whom\", \"whose\", \"which\", \"what\", \"whatever\",\n",
    "    \"whoever\", \"whomever\", \"whichever\"\n",
    "]"
   ]
  },
  {
   "cell_type": "code",
   "execution_count": 6,
   "metadata": {},
   "outputs": [],
   "source": [
    "auxiliary_verbs = [\n",
    "    \"am\", \"is\", \"are\", \"was\", \"were\", \"being\", \"been\", \"be\", \"have\", \"has\", \"had\",\n",
    "    \"having\", \"do\", \"does\", \"did\", \"will\", \"would\", \"shall\", \"should\", \"may\", \"might\",\n",
    "    \"must\", \"can\", \"could\"\n",
    "]"
   ]
  },
  {
   "cell_type": "code",
   "execution_count": 7,
   "metadata": {},
   "outputs": [],
   "source": [
    "determiners = [\n",
    "    \"the\", \"a\", \"an\", \"this\", \"that\", \"these\", \"those\", \"my\", \"your\", \"his\", \"her\",\n",
    "    \"its\", \"our\", \"their\", \"some\", \"any\", \"no\", \"every\", \"each\", \"either\", \"neither\",\n",
    "    \"much\", \"many\", \"more\", \"most\", \"few\", \"fewer\", \"least\", \"several\", \"enough\", \"all\",\n",
    "    \"both\", \"half\", \"one\", \"two\", \"three\", \"four\", \"five\", \"many\", \"several\", \"numerous\", \"every\"\n",
    "]"
   ]
  },
  {
   "cell_type": "code",
   "execution_count": 8,
   "metadata": {},
   "outputs": [
    {
     "name": "stdout",
     "output_type": "stream",
     "text": [
      "181 164\n"
     ]
    }
   ],
   "source": [
    "function_words = conjunctions + articles + prepositions + pronouns + auxiliary_verbs + determiners\n",
    "funciton_words = set(function_words)\n",
    "\n",
    "print(len(function_words), len(function_words))"
   ]
  }
 ],
 "metadata": {
  "kernelspec": {
   "display_name": "base",
   "language": "python",
   "name": "python3"
  },
  "language_info": {
   "codemirror_mode": {
    "name": "ipython",
    "version": 3
   },
   "file_extension": ".py",
   "mimetype": "text/x-python",
   "name": "python",
   "nbconvert_exporter": "python",
   "pygments_lexer": "ipython3",
   "version": "3.11.5"
  }
 },
 "nbformat": 4,
 "nbformat_minor": 2
}
